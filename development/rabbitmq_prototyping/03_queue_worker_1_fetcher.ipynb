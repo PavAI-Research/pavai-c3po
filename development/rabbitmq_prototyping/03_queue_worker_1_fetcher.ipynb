{
 "cells": [
  {
   "attachments": {},
   "cell_type": "markdown",
   "metadata": {
    "editable": true,
    "slideshow": {
     "slide_type": ""
    },
    "tags": []
   },
   "source": [
    "# RabbitMQ worker - Job Fetcher\n",
    "\n",
    "We have three use cases in our app for the queues:\n",
    "1. The API will trigger creation of a new job.  So this will likely be a new connection to RabbitMQ, sending a message to the queue, and then closing the connection.\n",
    "2. The first worker will listen to a message, do a job and then post to another queue.\n",
    "3. The second worker will only listen to a message.  \n",
    "\n",
    "Both 2 and 3 can use blocking connections, in that they can remain open and listen for messages.\n",
    "\n",
    "So for refactoring we can split this into these building blocks:\n",
    "* A base that creates a connection to RabbitMQ, creates a channel and ensures the right queues are available.\n",
    "* A component for the API to send a new message\n",
    "* A component for the first worker that listens to a message, does a job and posts to another queue\n",
    "* A component for the second worker that listens to a message and then does a job\n",
    "\n",
    "We will have two queues:\n",
    "* `start_fetch` - to trigger a new fetch job\n",
    "* `data_processing` - to trigger a data processing on fetched data"
   ]
  },
  {
   "attachments": {},
   "cell_type": "markdown",
   "metadata": {},
   "source": [
    "## Base - Our connection building block"
   ]
  },
  {
   "cell_type": "code",
   "execution_count": 1,
   "metadata": {},
   "outputs": [],
   "source": [
    "import pika\n",
    "\n",
    "def open_channel():\n",
    "    \"\"\"Opens a connection, a channel, creates queues and then returns this to the caller.\"\"\"\n",
    "    credentials = pika.PlainCredentials(\"DEV_USER\", \"CHANGE_ME\")\n",
    "    connection = pika.BlockingConnection(\n",
    "        pika.ConnectionParameters(host=\"localhost\", credentials=credentials)\n",
    "    )\n",
    "    channel = connection.channel()\n",
    "    channel.queue_declare(queue=\"start_fetch\", durable=True)\n",
    "    channel.queue_declare(queue=\"data_processing\", durable=True)\n",
    "    return channel"
   ]
  },
  {
   "cell_type": "code",
   "execution_count": 2,
   "metadata": {
    "editable": true,
    "slideshow": {
     "slide_type": ""
    },
    "tags": []
   },
   "outputs": [],
   "source": [
    "from rich import pretty, print\n",
    "pretty.install()"
   ]
  },
  {
   "attachments": {},
   "cell_type": "markdown",
   "metadata": {},
   "source": [
    "## Component - worker 1 job fetcher (runner)"
   ]
  },
  {
   "cell_type": "code",
   "execution_count": null,
   "metadata": {
    "editable": true,
    "slideshow": {
     "slide_type": ""
    },
    "tags": []
   },
   "outputs": [
    {
     "data": {
      "text/html": [
       "<pre style=\"white-space:pre;overflow-x:auto;line-height:normal;font-family:Menlo,'DejaVu Sans Mono',consolas,'Courier New',monospace\">Received message from queue: start_fetch\n",
       "</pre>\n"
      ],
      "text/plain": [
       "Received message from queue: start_fetch\n"
      ]
     },
     "metadata": {},
     "output_type": "display_data"
    },
    {
     "data": {
      "text/html": [
       "<pre style=\"white-space:pre;overflow-x:auto;line-height:normal;font-family:Menlo,'DejaVu Sans Mono',consolas,'Courier New',monospace\">Message paylo<span style=\"color: #00ff00; text-decoration-color: #00ff00; font-weight: bold\">ad:b</span>'<span style=\"font-weight: bold\">{</span><span style=\"color: #008000; text-decoration-color: #008000\">\"auth_code\"</span>: <span style=\"color: #008000; text-decoration-color: #008000\">\"fabc123\"</span>, <span style=\"color: #008000; text-decoration-color: #008000\">\"job_id\"</span>: <span style=\"color: #008000; text-decoration-color: #008000\">\"fabc123\"</span>, <span style=\"color: #008000; text-decoration-color: #008000\">\"task\"</span>: <span style=\"color: #008000; text-decoration-color: #008000\">\"finetune\"</span>, <span style=\"color: #008000; text-decoration-color: #008000\">\"data_content\"</span>: \n",
       "<span style=\"color: #008000; text-decoration-color: #008000\">\"\\\\n{\\\\\"messages\\\\\": [{\\\\\"role\\\\\": \\\\\"system\\\\\", \\\\\"content\\\\\": \\\\\"Marv is a factual chatbot that is also </span>\n",
       "<span style=\"color: #008000; text-decoration-color: #008000\">sarcastic.\\\\\"}, {\\\\\"role\\\\\": \\\\\"user\\\\\", \\\\\"content\\\\\": \\\\\"What\\'s the capital of France?\\\\\"}, {\\\\\"role\\\\\": </span>\n",
       "<span style=\"color: #008000; text-decoration-color: #008000\">\\\\\"assistant\\\\\", \\\\\"content\\\\\": \\\\\"Paris, as if everyone doesn\\'t know that already.\\\\\"}]}\\\\n\"</span>, <span style=\"color: #008000; text-decoration-color: #008000\">\"data_fortmat\"</span>: \n",
       "<span style=\"color: #008000; text-decoration-color: #008000\">\"alpaca\"</span>, <span style=\"color: #008000; text-decoration-color: #008000\">\"upload_files\"</span>: <span style=\"color: #008000; text-decoration-color: #008000\">\"\"</span><span style=\"font-weight: bold\">}</span>'\n",
       "</pre>\n"
      ],
      "text/plain": [
       "Message paylo\u001b[1;92mad:b\u001b[0m'\u001b[1m{\u001b[0m\u001b[32m\"auth_code\"\u001b[0m: \u001b[32m\"fabc123\"\u001b[0m, \u001b[32m\"job_id\"\u001b[0m: \u001b[32m\"fabc123\"\u001b[0m, \u001b[32m\"task\"\u001b[0m: \u001b[32m\"finetune\"\u001b[0m, \u001b[32m\"data_content\"\u001b[0m: \n",
       "\u001b[32m\"\\\\n\u001b[0m\u001b[32m{\u001b[0m\u001b[32m\\\\\"messages\\\\\": \u001b[0m\u001b[32m[\u001b[0m\u001b[32m{\u001b[0m\u001b[32m\\\\\"role\\\\\": \\\\\"system\\\\\", \\\\\"content\\\\\": \\\\\"Marv is a factual chatbot that is also \u001b[0m\n",
       "\u001b[32msarcastic.\\\\\"\u001b[0m\u001b[32m}\u001b[0m\u001b[32m, \u001b[0m\u001b[32m{\u001b[0m\u001b[32m\\\\\"role\\\\\": \\\\\"user\\\\\", \\\\\"content\\\\\": \\\\\"What\\'s the capital of France?\\\\\"\u001b[0m\u001b[32m}\u001b[0m\u001b[32m, \u001b[0m\u001b[32m{\u001b[0m\u001b[32m\\\\\"role\\\\\": \u001b[0m\n",
       "\u001b[32m\\\\\"assistant\\\\\", \\\\\"content\\\\\": \\\\\"Paris, as if everyone doesn\\'t know that already.\\\\\"\u001b[0m\u001b[32m}\u001b[0m\u001b[32m]\u001b[0m\u001b[32m}\u001b[0m\u001b[32m\\\\n\"\u001b[0m, \u001b[32m\"data_fortmat\"\u001b[0m: \n",
       "\u001b[32m\"alpaca\"\u001b[0m, \u001b[32m\"upload_files\"\u001b[0m: \u001b[32m\"\"\u001b[0m\u001b[1m}\u001b[0m'\n"
      ]
     },
     "metadata": {},
     "output_type": "display_data"
    },
    {
     "data": {
      "text/html": [
       "<pre style=\"white-space:pre;overflow-x:auto;line-height:normal;font-family:Menlo,'DejaVu Sans Mono',consolas,'Courier New',monospace\">Doing the fetch process\n",
       "</pre>\n"
      ],
      "text/plain": [
       "Doing the fetch process\n"
      ]
     },
     "metadata": {},
     "output_type": "display_data"
    },
    {
     "data": {
      "text/html": [
       "<pre style=\"white-space:pre;overflow-x:auto;line-height:normal;font-family:Menlo,'DejaVu Sans Mono',consolas,'Courier New',monospace\">Forward message to data processor queue: data_processing\n",
       "</pre>\n"
      ],
      "text/plain": [
       "Forward message to data processor queue: data_processing\n"
      ]
     },
     "metadata": {},
     "output_type": "display_data"
    },
    {
     "data": {
      "text/html": [
       "<pre style=\"white-space:pre;overflow-x:auto;line-height:normal;font-family:Menlo,'DejaVu Sans Mono',consolas,'Courier New',monospace\">Message sent to queue: data_processing\n",
       "</pre>\n"
      ],
      "text/plain": [
       "Message sent to queue: data_processing\n"
      ]
     },
     "metadata": {},
     "output_type": "display_data"
    },
    {
     "data": {
      "text/html": [
       "<pre style=\"white-space:pre;overflow-x:auto;line-height:normal;font-family:Menlo,'DejaVu Sans Mono',consolas,'Courier New',monospace\">Received message from queue: start_fetch\n",
       "</pre>\n"
      ],
      "text/plain": [
       "Received message from queue: start_fetch\n"
      ]
     },
     "metadata": {},
     "output_type": "display_data"
    },
    {
     "data": {
      "text/html": [
       "<pre style=\"white-space:pre;overflow-x:auto;line-height:normal;font-family:Menlo,'DejaVu Sans Mono',consolas,'Courier New',monospace\">Message paylo<span style=\"color: #00ff00; text-decoration-color: #00ff00; font-weight: bold\">ad:b</span>'<span style=\"font-weight: bold\">{</span><span style=\"color: #008000; text-decoration-color: #008000\">\"auth_code\"</span>: <span style=\"color: #008000; text-decoration-color: #008000\">\"fabc123\"</span>, <span style=\"color: #008000; text-decoration-color: #008000\">\"job_id\"</span>: <span style=\"color: #008000; text-decoration-color: #008000\">\"fabc123\"</span>, <span style=\"color: #008000; text-decoration-color: #008000\">\"task\"</span>: <span style=\"color: #008000; text-decoration-color: #008000\">\"finetune\"</span>, <span style=\"color: #008000; text-decoration-color: #008000\">\"data_content\"</span>: \n",
       "<span style=\"color: #008000; text-decoration-color: #008000\">\"\\\\n{\\\\\"messages\\\\\": [{\\\\\"role\\\\\": \\\\\"system\\\\\", \\\\\"content\\\\\": \\\\\"Marv is a factual chatbot that is also </span>\n",
       "<span style=\"color: #008000; text-decoration-color: #008000\">sarcastic.\\\\\"}, {\\\\\"role\\\\\": \\\\\"user\\\\\", \\\\\"content\\\\\": \\\\\"What\\'s the capital of France?\\\\\"}, {\\\\\"role\\\\\": </span>\n",
       "<span style=\"color: #008000; text-decoration-color: #008000\">\\\\\"assistant\\\\\", \\\\\"content\\\\\": \\\\\"Paris, as if everyone doesn\\'t know that already.\\\\\"}]}\\\\n\"</span>, <span style=\"color: #008000; text-decoration-color: #008000\">\"data_fortmat\"</span>: \n",
       "<span style=\"color: #008000; text-decoration-color: #008000\">\"alpaca\"</span>, <span style=\"color: #008000; text-decoration-color: #008000\">\"upload_files\"</span>: <span style=\"color: #008000; text-decoration-color: #008000\">\"\"</span><span style=\"font-weight: bold\">}</span>'\n",
       "</pre>\n"
      ],
      "text/plain": [
       "Message paylo\u001b[1;92mad:b\u001b[0m'\u001b[1m{\u001b[0m\u001b[32m\"auth_code\"\u001b[0m: \u001b[32m\"fabc123\"\u001b[0m, \u001b[32m\"job_id\"\u001b[0m: \u001b[32m\"fabc123\"\u001b[0m, \u001b[32m\"task\"\u001b[0m: \u001b[32m\"finetune\"\u001b[0m, \u001b[32m\"data_content\"\u001b[0m: \n",
       "\u001b[32m\"\\\\n\u001b[0m\u001b[32m{\u001b[0m\u001b[32m\\\\\"messages\\\\\": \u001b[0m\u001b[32m[\u001b[0m\u001b[32m{\u001b[0m\u001b[32m\\\\\"role\\\\\": \\\\\"system\\\\\", \\\\\"content\\\\\": \\\\\"Marv is a factual chatbot that is also \u001b[0m\n",
       "\u001b[32msarcastic.\\\\\"\u001b[0m\u001b[32m}\u001b[0m\u001b[32m, \u001b[0m\u001b[32m{\u001b[0m\u001b[32m\\\\\"role\\\\\": \\\\\"user\\\\\", \\\\\"content\\\\\": \\\\\"What\\'s the capital of France?\\\\\"\u001b[0m\u001b[32m}\u001b[0m\u001b[32m, \u001b[0m\u001b[32m{\u001b[0m\u001b[32m\\\\\"role\\\\\": \u001b[0m\n",
       "\u001b[32m\\\\\"assistant\\\\\", \\\\\"content\\\\\": \\\\\"Paris, as if everyone doesn\\'t know that already.\\\\\"\u001b[0m\u001b[32m}\u001b[0m\u001b[32m]\u001b[0m\u001b[32m}\u001b[0m\u001b[32m\\\\n\"\u001b[0m, \u001b[32m\"data_fortmat\"\u001b[0m: \n",
       "\u001b[32m\"alpaca\"\u001b[0m, \u001b[32m\"upload_files\"\u001b[0m: \u001b[32m\"\"\u001b[0m\u001b[1m}\u001b[0m'\n"
      ]
     },
     "metadata": {},
     "output_type": "display_data"
    },
    {
     "data": {
      "text/html": [
       "<pre style=\"white-space:pre;overflow-x:auto;line-height:normal;font-family:Menlo,'DejaVu Sans Mono',consolas,'Courier New',monospace\">Doing the fetch process\n",
       "</pre>\n"
      ],
      "text/plain": [
       "Doing the fetch process\n"
      ]
     },
     "metadata": {},
     "output_type": "display_data"
    },
    {
     "data": {
      "text/html": [
       "<pre style=\"white-space:pre;overflow-x:auto;line-height:normal;font-family:Menlo,'DejaVu Sans Mono',consolas,'Courier New',monospace\">Forward message to data processor queue: data_processing\n",
       "</pre>\n"
      ],
      "text/plain": [
       "Forward message to data processor queue: data_processing\n"
      ]
     },
     "metadata": {},
     "output_type": "display_data"
    },
    {
     "data": {
      "text/html": [
       "<pre style=\"white-space:pre;overflow-x:auto;line-height:normal;font-family:Menlo,'DejaVu Sans Mono',consolas,'Courier New',monospace\">Message sent to queue: data_processing\n",
       "</pre>\n"
      ],
      "text/plain": [
       "Message sent to queue: data_processing\n"
      ]
     },
     "metadata": {},
     "output_type": "display_data"
    },
    {
     "data": {
      "text/html": [
       "<pre style=\"white-space:pre;overflow-x:auto;line-height:normal;font-family:Menlo,'DejaVu Sans Mono',consolas,'Courier New',monospace\">Received message from queue: start_fetch\n",
       "</pre>\n"
      ],
      "text/plain": [
       "Received message from queue: start_fetch\n"
      ]
     },
     "metadata": {},
     "output_type": "display_data"
    },
    {
     "data": {
      "text/html": [
       "<pre style=\"white-space:pre;overflow-x:auto;line-height:normal;font-family:Menlo,'DejaVu Sans Mono',consolas,'Courier New',monospace\">Message paylo<span style=\"color: #00ff00; text-decoration-color: #00ff00; font-weight: bold\">ad:b</span>'<span style=\"font-weight: bold\">{</span><span style=\"color: #008000; text-decoration-color: #008000\">\"auth_code\"</span>: <span style=\"color: #008000; text-decoration-color: #008000\">\"fabc123\"</span>, <span style=\"color: #008000; text-decoration-color: #008000\">\"job_id\"</span>: <span style=\"color: #008000; text-decoration-color: #008000\">\"fabc123\"</span>, <span style=\"color: #008000; text-decoration-color: #008000\">\"task\"</span>: <span style=\"color: #008000; text-decoration-color: #008000\">\"finetune\"</span>, <span style=\"color: #008000; text-decoration-color: #008000\">\"data_content\"</span>: \n",
       "<span style=\"color: #008000; text-decoration-color: #008000\">\"\\\\n{\\\\\"messages\\\\\": [{\\\\\"role\\\\\": \\\\\"system\\\\\", \\\\\"content\\\\\": \\\\\"Marv is a factual chatbot that is also </span>\n",
       "<span style=\"color: #008000; text-decoration-color: #008000\">sarcastic.\\\\\"}, {\\\\\"role\\\\\": \\\\\"user\\\\\", \\\\\"content\\\\\": \\\\\"What\\'s the capital of France?\\\\\"}, {\\\\\"role\\\\\": </span>\n",
       "<span style=\"color: #008000; text-decoration-color: #008000\">\\\\\"assistant\\\\\", \\\\\"content\\\\\": \\\\\"Paris, as if everyone doesn\\'t know that already.\\\\\"}]}\\\\n\"</span>, <span style=\"color: #008000; text-decoration-color: #008000\">\"data_fortmat\"</span>: \n",
       "<span style=\"color: #008000; text-decoration-color: #008000\">\"alpaca\"</span>, <span style=\"color: #008000; text-decoration-color: #008000\">\"upload_files\"</span>: <span style=\"color: #008000; text-decoration-color: #008000\">\"\"</span><span style=\"font-weight: bold\">}</span>'\n",
       "</pre>\n"
      ],
      "text/plain": [
       "Message paylo\u001b[1;92mad:b\u001b[0m'\u001b[1m{\u001b[0m\u001b[32m\"auth_code\"\u001b[0m: \u001b[32m\"fabc123\"\u001b[0m, \u001b[32m\"job_id\"\u001b[0m: \u001b[32m\"fabc123\"\u001b[0m, \u001b[32m\"task\"\u001b[0m: \u001b[32m\"finetune\"\u001b[0m, \u001b[32m\"data_content\"\u001b[0m: \n",
       "\u001b[32m\"\\\\n\u001b[0m\u001b[32m{\u001b[0m\u001b[32m\\\\\"messages\\\\\": \u001b[0m\u001b[32m[\u001b[0m\u001b[32m{\u001b[0m\u001b[32m\\\\\"role\\\\\": \\\\\"system\\\\\", \\\\\"content\\\\\": \\\\\"Marv is a factual chatbot that is also \u001b[0m\n",
       "\u001b[32msarcastic.\\\\\"\u001b[0m\u001b[32m}\u001b[0m\u001b[32m, \u001b[0m\u001b[32m{\u001b[0m\u001b[32m\\\\\"role\\\\\": \\\\\"user\\\\\", \\\\\"content\\\\\": \\\\\"What\\'s the capital of France?\\\\\"\u001b[0m\u001b[32m}\u001b[0m\u001b[32m, \u001b[0m\u001b[32m{\u001b[0m\u001b[32m\\\\\"role\\\\\": \u001b[0m\n",
       "\u001b[32m\\\\\"assistant\\\\\", \\\\\"content\\\\\": \\\\\"Paris, as if everyone doesn\\'t know that already.\\\\\"\u001b[0m\u001b[32m}\u001b[0m\u001b[32m]\u001b[0m\u001b[32m}\u001b[0m\u001b[32m\\\\n\"\u001b[0m, \u001b[32m\"data_fortmat\"\u001b[0m: \n",
       "\u001b[32m\"alpaca\"\u001b[0m, \u001b[32m\"upload_files\"\u001b[0m: \u001b[32m\"\"\u001b[0m\u001b[1m}\u001b[0m'\n"
      ]
     },
     "metadata": {},
     "output_type": "display_data"
    },
    {
     "data": {
      "text/html": [
       "<pre style=\"white-space:pre;overflow-x:auto;line-height:normal;font-family:Menlo,'DejaVu Sans Mono',consolas,'Courier New',monospace\">Doing the fetch process\n",
       "</pre>\n"
      ],
      "text/plain": [
       "Doing the fetch process\n"
      ]
     },
     "metadata": {},
     "output_type": "display_data"
    },
    {
     "data": {
      "text/html": [
       "<pre style=\"white-space:pre;overflow-x:auto;line-height:normal;font-family:Menlo,'DejaVu Sans Mono',consolas,'Courier New',monospace\">Forward message to data processor queue: data_processing\n",
       "</pre>\n"
      ],
      "text/plain": [
       "Forward message to data processor queue: data_processing\n"
      ]
     },
     "metadata": {},
     "output_type": "display_data"
    },
    {
     "data": {
      "text/html": [
       "<pre style=\"white-space:pre;overflow-x:auto;line-height:normal;font-family:Menlo,'DejaVu Sans Mono',consolas,'Courier New',monospace\">Message sent to queue: data_processing\n",
       "</pre>\n"
      ],
      "text/plain": [
       "Message sent to queue: data_processing\n"
      ]
     },
     "metadata": {},
     "output_type": "display_data"
    }
   ],
   "source": [
    "LISTEN_QUEUE = \"start_fetch\"\n",
    "PUSH_QUEUE = \"data_processing\"\n",
    "\n",
    "\n",
    "def run_fetch_worker():\n",
    "    \"\"\"Does the worker 1 fetch process and manages the job queue.\"\"\"\n",
    "\n",
    "    # Get a new channel from the base\n",
    "    channel = open_channel()\n",
    "\n",
    "    # Callback that would be run when a message is received\n",
    "    def callback(ch, method, properties, body):\n",
    "        print(\"Received message from queue: {}\".format(LISTEN_QUEUE))\n",
    "        print(f\"Message payload:{body}\")\n",
    "\n",
    "        # Do the fetch process\n",
    "        print(\"Doing the fetch process\")\n",
    "        data = []\n",
    "\n",
    "        # Send data to the next queue\n",
    "        print(\"Forward message to data processor queue: {}\".format(PUSH_QUEUE))\n",
    "        ch.basic_publish(exchange=\"\", routing_key=PUSH_QUEUE, body=body)\n",
    "        print(\"Message sent to queue: {}\".format(PUSH_QUEUE))\n",
    "\n",
    "        # Acknowledge the incoming message to remove it from the queue\n",
    "        ch.basic_ack(delivery_tag=method.delivery_tag)\n",
    "\n",
    "    # Register the callback\n",
    "    channel.basic_consume(queue=LISTEN_QUEUE, on_message_callback=callback)\n",
    "\n",
    "    # This is a blocking connection\n",
    "    channel.start_consuming()\n",
    "\n",
    "\n",
    "run_fetch_worker()"
   ]
  },
  {
   "attachments": {},
   "cell_type": "markdown",
   "metadata": {
    "editable": true,
    "slideshow": {
     "slide_type": ""
    },
    "tags": []
   },
   "source": [
    "These all seem to work.\n",
    "\n",
    "Now I can move them into the bases and components"
   ]
  }
 ],
 "metadata": {
  "kernelspec": {
   "display_name": "Python 3 (ipykernel)",
   "language": "python",
   "name": "python3"
  },
  "language_info": {
   "codemirror_mode": {
    "name": "ipython",
    "version": 3
   },
   "file_extension": ".py",
   "mimetype": "text/x-python",
   "name": "python",
   "nbconvert_exporter": "python",
   "pygments_lexer": "ipython3",
   "version": "3.10.12"
  },
  "vscode": {
   "interpreter": {
    "hash": "e312d00c0035e1a075cca129be038e4a92c47787dd29c5d0f304be6e82a509c0"
   }
  }
 },
 "nbformat": 4,
 "nbformat_minor": 4
}
