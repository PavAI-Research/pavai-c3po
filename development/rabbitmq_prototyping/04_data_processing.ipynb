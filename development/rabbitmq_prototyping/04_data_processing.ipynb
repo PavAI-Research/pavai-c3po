{
 "cells": [
  {
   "attachments": {},
   "cell_type": "markdown",
   "metadata": {},
   "source": [
    "# Processing data\n",
    "\n",
    "Our fake data will be geo data with lat and long.\n",
    "\n",
    "For the purposes of this tutorial we will simulate doing some analysis and generate three outputs from each bundle of data:\n",
    "* The geo centroid (the average lat and long)\n",
    "* The most northerly datapoint\n",
    "\n",
    "We can then return in that in some sort of data structure that would then be written to a database."
   ]
  },
  {
   "cell_type": "code",
   "execution_count": 1,
   "metadata": {},
   "outputs": [],
   "source": [
    "from faker import Faker\n",
    "import random"
   ]
  },
  {
   "attachments": {},
   "cell_type": "markdown",
   "metadata": {},
   "source": [
    "Firstly let's create some fake geo data"
   ]
  },
  {
   "cell_type": "code",
   "execution_count": 2,
   "metadata": {
    "editable": true,
    "slideshow": {
     "slide_type": ""
    },
    "tags": []
   },
   "outputs": [
    {
     "data": {
      "text/plain": [
       "[('20.74122',\n",
       "  '-100.44843',\n",
       "  'Santa Rosa Jauregui',\n",
       "  'MX',\n",
       "  'America/Mexico_City'),\n",
       " ('36.02506', '-86.77917', 'Brentwood Estates', 'US', 'America/Chicago'),\n",
       " ('9.57046', '76.32756', 'Kalavoor', 'IN', 'Asia/Kolkata'),\n",
       " ('-3.74912', '-73.25383', 'Iquitos', 'PE', 'America/Lima'),\n",
       " ('-34.64966',\n",
       "  '-58.38341',\n",
       "  'Barracas',\n",
       "  'AR',\n",
       "  'America/Argentina/Buenos_Aires'),\n",
       " ('49.195061', '16.606836', 'Brno', 'CZ', 'Europe/Prague'),\n",
       " ('30.29184', '71.67164', 'Qadirpur Ran', 'PK', 'Asia/Karachi'),\n",
       " ('13.65805', '102.56365', 'Paoy Paet', 'KH', 'Asia/Phnom_Penh')]"
      ]
     },
     "execution_count": 2,
     "metadata": {},
     "output_type": "execute_result"
    }
   ],
   "source": [
    "fake = Faker()\n",
    "data = []\n",
    "for i in range(8):\n",
    "    data.append(fake.location_on_land())\n",
    "\n",
    "data"
   ]
  },
  {
   "cell_type": "code",
   "execution_count": 3,
   "metadata": {},
   "outputs": [],
   "source": [
    "def process_data(data: list):\n",
    "\n",
    "    # Calculate the average lat and average long from the data\n",
    "    lats = [float(x[0]) for x in data]\n",
    "    average_lat = sum(lats) / len(lats)\n",
    "    longs = [float(x[1]) for x in data]\n",
    "    average_long = sum(longs) / len(longs)\n",
    "\n",
    "    # The most northerly datapoint\n",
    "    most_northerly_lat = max(lats)\n",
    "    most_northerly_index =  lats.index(most_northerly_lat)\n",
    "    most_northerly = data[most_northerly_index]\n",
    "\n",
    "    # Package up into processed data\n",
    "    result = {\n",
    "        \"centroid\": (average_lat, average_long),\n",
    "        \"most_northerly\": most_northerly\n",
    "    }\n",
    "\n",
    "    return result\n",
    "    "
   ]
  },
  {
   "cell_type": "code",
   "execution_count": 4,
   "metadata": {},
   "outputs": [
    {
     "data": {
      "text/plain": [
       "{'centroid': (15.135363875000003, -6.461894249999997),\n",
       " 'most_northerly': ('49.195061', '16.606836', 'Brno', 'CZ', 'Europe/Prague')}"
      ]
     },
     "execution_count": 4,
     "metadata": {},
     "output_type": "execute_result"
    }
   ],
   "source": [
    "process_data(data)"
   ]
  },
  {
   "attachments": {},
   "cell_type": "markdown",
   "metadata": {
    "editable": true,
    "slideshow": {
     "slide_type": ""
    },
    "tags": []
   },
   "source": [
    "This function can mimic our processing data."
   ]
  },
  {
   "cell_type": "code",
   "execution_count": null,
   "metadata": {},
   "outputs": [],
   "source": []
  }
 ],
 "metadata": {
  "kernelspec": {
   "display_name": "Python 3 (ipykernel)",
   "language": "python",
   "name": "python3"
  },
  "language_info": {
   "codemirror_mode": {
    "name": "ipython",
    "version": 3
   },
   "file_extension": ".py",
   "mimetype": "text/x-python",
   "name": "python",
   "nbconvert_exporter": "python",
   "pygments_lexer": "ipython3",
   "version": "3.10.12"
  },
  "vscode": {
   "interpreter": {
    "hash": "e312d00c0035e1a075cca129be038e4a92c47787dd29c5d0f304be6e82a509c0"
   }
  }
 },
 "nbformat": 4,
 "nbformat_minor": 4
}
