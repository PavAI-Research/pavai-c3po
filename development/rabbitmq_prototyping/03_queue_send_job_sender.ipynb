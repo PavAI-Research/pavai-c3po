{
 "cells": [
  {
   "attachments": {},
   "cell_type": "markdown",
   "metadata": {
    "editable": true,
    "slideshow": {
     "slide_type": ""
    },
    "tags": []
   },
   "source": [
    "# RabbitMQ worker - Finetune Job Sender\n",
    "\n",
    "We have three use cases in our app for the queues:\n",
    "1. The API will trigger creation of a new job.  So this will likely be a new connection to RabbitMQ, sending a message to the queue, and then closing the connection.\n",
    "2. The first worker will listen to a message, do a job and then post to another queue.\n",
    "3. The second worker will only listen to a message.  \n",
    "\n",
    "Both 2 and 3 can use blocking connections, in that they can remain open and listen for messages.\n",
    "\n",
    "So for refactoring we can split this into these building blocks:\n",
    "* A base that creates a connection to RabbitMQ, creates a channel and ensures the right queues are available.\n",
    "* A component for the API to send a new message\n",
    "* A component for the first worker that listens to a message, does a job and posts to another queue\n",
    "* A component for the second worker that listens to a message and then does a job\n",
    "\n",
    "We will have two queues:\n",
    "* `start_fetch` - to trigger a new fetch job\n",
    "* `data_processing` - to trigger a data processing on fetched data"
   ]
  },
  {
   "cell_type": "code",
   "execution_count": 10,
   "metadata": {},
   "outputs": [],
   "source": [
    "# import pika"
   ]
  },
  {
   "attachments": {},
   "cell_type": "markdown",
   "metadata": {},
   "source": [
    "## Base - Our connection building block"
   ]
  },
  {
   "cell_type": "code",
   "execution_count": 11,
   "metadata": {},
   "outputs": [],
   "source": [
    "import pika\n",
    "\n",
    "\n",
    "def open_channel():\n",
    "    \"\"\"Opens a connection, a channel, creates queues and then returns this to the caller.\"\"\"\n",
    "    credentials = pika.PlainCredentials(\"DEV_USER\", \"CHANGE_ME\")\n",
    "    connection = pika.BlockingConnection(\n",
    "        pika.ConnectionParameters(host=\"localhost\", credentials=credentials)\n",
    "    )\n",
    "    channel = connection.channel()\n",
    "    channel.queue_declare(queue=\"start_fetch\", durable=True)\n",
    "    channel.queue_declare(queue=\"data_processing\", durable=True)\n",
    "    return channel"
   ]
  },
  {
   "attachments": {},
   "cell_type": "markdown",
   "metadata": {},
   "source": [
    "## Component - The API sends to start worker 1"
   ]
  },
  {
   "cell_type": "code",
   "execution_count": 27,
   "metadata": {
    "editable": true,
    "slideshow": {
     "slide_type": ""
    },
    "tags": []
   },
   "outputs": [
    {
     "data": {
      "text/plain": [
       "'{\"auth_code\": \"fabc123\", \"job_id\": \"fabc123\", \"task\": \"finetune\", \"data_content\": \"\\\\n{\\\\\"messages\\\\\": [{\\\\\"role\\\\\": \\\\\"system\\\\\", \\\\\"content\\\\\": \\\\\"Marv is a factual chatbot that is also sarcastic.\\\\\"}, {\\\\\"role\\\\\": \\\\\"user\\\\\", \\\\\"content\\\\\": \\\\\"What\\'s the capital of France?\\\\\"}, {\\\\\"role\\\\\": \\\\\"assistant\\\\\", \\\\\"content\\\\\": \\\\\"Paris, as if everyone doesn\\'t know that already.\\\\\"}]}\\\\n\", \"data_fortmat\": \"alpaca\", \"upload_files\": \"\"}'"
      ]
     },
     "execution_count": 27,
     "metadata": {},
     "output_type": "execute_result"
    }
   ],
   "source": [
    "import json\n",
    "finetune_data_sample=\"\"\"\n",
    "{\"messages\": [{\"role\": \"system\", \"content\": \"Marv is a factual chatbot that is also sarcastic.\"}, {\"role\": \"user\", \"content\": \"What's the capital of France?\"}, {\"role\": \"assistant\", \"content\": \"Paris, as if everyone doesn't know that already.\"}]}\n",
    "\"\"\"\n",
    "# file=open(\"training_data.jsonl\", \"rb\"),\n",
    "message = {\n",
    "        \"auth_code\":\"fabc123\",\n",
    "        \"job_id\":\"fabc123\",        \n",
    "        \"task\":\"finetune\",\n",
    "        \"data_content\":finetune_data_sample,\n",
    "        \"data_fortmat\":\"alpaca\",        \n",
    "        \"upload_files\":\"\"\n",
    "}\n",
    "payload_json_string = json.dumps(message)\n",
    "payload_json_string"
   ]
  },
  {
   "cell_type": "code",
   "execution_count": 29,
   "metadata": {},
   "outputs": [
    {
     "name": "stdout",
     "output_type": "stream",
     "text": [
      "Sending Message sent to queue: start_fetch\n",
      "Payload :{'auth_code': 'fabc123', 'job_id': 'fabc123', 'task': 'finetune', 'data_content': '\\n{\"messages\": [{\"role\": \"system\", \"content\": \"Marv is a factual chatbot that is also sarcastic.\"}, {\"role\": \"user\", \"content\": \"What\\'s the capital of France?\"}, {\"role\": \"assistant\", \"content\": \"Paris, as if everyone doesn\\'t know that already.\"}]}\\n', 'data_fortmat': 'alpaca', 'upload_files': ''}\n"
     ]
    }
   ],
   "source": [
    "QUEUE = \"start_fetch\"\n",
    "\n",
    "\n",
    "def start_first_job():\n",
    "    \"\"\"Starts the first worker.\"\"\"\n",
    "\n",
    "    # Get a new channel from the base\n",
    "    channel = open_channel()\n",
    "\n",
    "    # Send an empty message to the queue\n",
    "    channel.basic_publish(exchange=\"\", routing_key=QUEUE, body=payload_json_string)\n",
    "\n",
    "    print(\"Sending Message sent to queue: {}\".format(QUEUE))\n",
    "    print(f\"Payload :{message}\")\n",
    "\n",
    "    # Close cleanly\n",
    "    channel.close()\n",
    "\n",
    "\n",
    "start_first_job()"
   ]
  },
  {
   "cell_type": "code",
   "execution_count": null,
   "metadata": {
    "editable": true,
    "slideshow": {
     "slide_type": ""
    },
    "tags": []
   },
   "outputs": [],
   "source": []
  },
  {
   "cell_type": "markdown",
   "metadata": {
    "editable": true,
    "slideshow": {
     "slide_type": ""
    },
    "tags": []
   },
   "source": [
    "Steps to Fine-Tune ChatGPT \n",
    "Step 1: Define the Use Case \n",
    "\n",
    "Identifying a use case is the first step in refining ChatGPT. To get the most out of ChatGPT, it helps to have a firm grasp on the precise goal you hope to achieve. ChatGPT can be tuned for a variety of uses, including sentiment analysis, language translation, and question answering. \n",
    "Step 2: Collect and Preprocess Data \n",
    "\n",
    "After a use case has been established, data collection and preparation can begin. The success of fine-tuning ChatGPT relies heavily on the quality and quantity of the data collected. The data must be accurate and suitable for the intended purpose. It is also crucial to clean, normalize, and tokenize the data before analysis. \n",
    "Step 3: Prepare Data for Training \n",
    "\n",
    "The next phase, following data collection and preprocessing, is to get the data ready for training. Step one is to separate the data into three distinct groups: training, validation, and test. The model is trained on the training set, validated on the validation set, and tested on the test set to determine how well it performed. \n",
    "Step 4: Fine-Tune the Model \n",
    "\n",
    "The following phase, after the data has been cleaned and organized, is to fine-tune the model. To do so, we must first train the pre-trained ChatGPT model on the application-specific data. In order to reduce the variance between the expected and actual outputs, backpropagation is used to update the model during training. \n",
    "Step 5: Evaluate the Model \n",
    "\n",
    "Once the model has been fine-tuned, its performance on the test set may be assessed. Accuracy, precision, recall, and the F1 score are some of the metrics that can be used for this purpose. If the model’s performance falls short of expectations, it may be essential to go back and tweak the use case specification, data collection, data preparation, or model hyperparameters. \n",
    "Step 6: Deploy the Model \n",
    "\n",
    "The last step is deployment, which occurs once the model has been fine-tuned and its performance has been deemed adequate. This is the process of incorporating the model into its eventual manufacturing setting. Building a RESTful API or a web app that facilitates model interaction is one such approach. "
   ]
  },
  {
   "cell_type": "code",
   "execution_count": null,
   "metadata": {},
   "outputs": [],
   "source": []
  }
 ],
 "metadata": {
  "kernelspec": {
   "display_name": "Python 3 (ipykernel)",
   "language": "python",
   "name": "python3"
  },
  "language_info": {
   "codemirror_mode": {
    "name": "ipython",
    "version": 3
   },
   "file_extension": ".py",
   "mimetype": "text/x-python",
   "name": "python",
   "nbconvert_exporter": "python",
   "pygments_lexer": "ipython3",
   "version": "3.10.12"
  },
  "vscode": {
   "interpreter": {
    "hash": "e312d00c0035e1a075cca129be038e4a92c47787dd29c5d0f304be6e82a509c0"
   }
  }
 },
 "nbformat": 4,
 "nbformat_minor": 4
}
