{
 "cells": [
  {
   "attachments": {},
   "cell_type": "markdown",
   "metadata": {},
   "source": [
    "# RabbitMQ worker - basics and getting it working\n",
    "\n",
    "Exploration of how to create a worker that talks to RabbitMQ.\n",
    "\n",
    "We will later chunk this up into relevant components and bases for the main application. \n",
    "\n",
    "Prerequisites: The RabbitMQ docker container is up and running with port 5672 open.  Here is the docker-compose.yml file that I used to start the container:\n",
    "\n",
    "```yml\n",
    "  rabbit:\n",
    "    image: rabbitmq:management\n",
    "    restart: always\n",
    "    ports:\n",
    "      - 5672:5672\n",
    "      - 15672:15672\n",
    "    environment:\n",
    "      RABBITMQ_DEFAULT_USER: DEV_USER  # TEST ONLY\n",
    "      RABBITMQ_DEFAULT_PASS: CHANGE_ME  # TEST ONLY\n",
    "    logging:\n",
    "      driver: local\n",
    "```"
   ]
  },
  {
   "cell_type": "code",
   "execution_count": 1,
   "metadata": {},
   "outputs": [],
   "source": [
    "import pika "
   ]
  },
  {
   "cell_type": "code",
   "execution_count": 2,
   "metadata": {},
   "outputs": [],
   "source": [
    "# credential for RabbitMQ\n",
    "credentials = pika.PlainCredentials('DEV_USER', 'CHANGE_ME')"
   ]
  },
  {
   "attachments": {},
   "cell_type": "markdown",
   "metadata": {},
   "source": [
    "The following is a simple publisher that will send 3 messages to the queue `hello`."
   ]
  },
  {
   "cell_type": "code",
   "execution_count": 3,
   "metadata": {},
   "outputs": [
    {
     "name": "stdout",
     "output_type": "stream",
     "text": [
      " [x] Sent 'Hello World! 0'\n",
      " [x] Sent 'Hello World! 1'\n",
      " [x] Sent 'Hello World! 2'\n"
     ]
    }
   ],
   "source": [
    "import pika\n",
    "import time\n",
    "\n",
    "connection = pika.BlockingConnection(pika.ConnectionParameters(host='localhost', credentials=credentials))\n",
    "channel = connection.channel()\n",
    "\n",
    "channel.queue_declare(queue='hello')\n",
    "\n",
    "for i in range(3):\n",
    "    message = 'Hello World! %d' % i\n",
    "    channel.basic_publish(exchange='',\n",
    "                          routing_key='hello',\n",
    "                          body=message)\n",
    "    print(\" [x] Sent %r\" % message)\n",
    "    time.sleep(1)\n",
    "\n",
    "connection.close()\n"
   ]
  },
  {
   "attachments": {},
   "cell_type": "markdown",
   "metadata": {},
   "source": [
    "The following is a simple worker that will listen for messages on the queue `hello` and print them out.  The worker will exit after 10 messages."
   ]
  },
  {
   "cell_type": "code",
   "execution_count": null,
   "metadata": {},
   "outputs": [
    {
     "name": "stdout",
     "output_type": "stream",
     "text": [
      " [*] Waiting for messages. To exit press CTRL+C\n",
      " [x] Received b'Hello World! 0'\n",
      " [x] Done\n",
      " [x] Received b'Hello World! 1'\n",
      " [x] Done\n",
      " [x] Received b'Hello World! 2'\n",
      " [x] Done\n"
     ]
    }
   ],
   "source": [
    "import pika\n",
    "import time\n",
    "\n",
    "connection = pika.BlockingConnection(pika.ConnectionParameters(host='localhost', credentials=credentials))\n",
    "channel = connection.channel()\n",
    "\n",
    "\n",
    "channel.queue_declare(queue='hello')\n",
    "\n",
    "def callback(ch, method, properties, body):\n",
    "    print(\" [x] Received %r\" % body)\n",
    "    time.sleep(body.count(b'.'))\n",
    "    print(\" [x] Done\")\n",
    "    ch.basic_ack(delivery_tag = method.delivery_tag)\n",
    "    \n",
    "channel.basic_qos(prefetch_count=1)\n",
    "channel.basic_consume(queue='hello', on_message_callback=callback)\n",
    "\n",
    "print(' [*] Waiting for messages. To exit press CTRL+C')\n",
    "channel.start_consuming()"
   ]
  },
  {
   "attachments": {},
   "cell_type": "markdown",
   "metadata": {},
   "source": [
    "OK this works.  The former sends messages.  The latter picks them up.  The latter blocks the thread and that's OK.\n",
    "\n",
    "Next we will refactor this into a suitable structure for base and components in Polylith ..."
   ]
  }
 ],
 "metadata": {
  "kernelspec": {
   "display_name": "Python 3 (ipykernel)",
   "language": "python",
   "name": "python3"
  },
  "language_info": {
   "codemirror_mode": {
    "name": "ipython",
    "version": 3
   },
   "file_extension": ".py",
   "mimetype": "text/x-python",
   "name": "python",
   "nbconvert_exporter": "python",
   "pygments_lexer": "ipython3",
   "version": "3.10.12"
  },
  "vscode": {
   "interpreter": {
    "hash": "e312d00c0035e1a075cca129be038e4a92c47787dd29c5d0f304be6e82a509c0"
   }
  }
 },
 "nbformat": 4,
 "nbformat_minor": 4
}
