{
 "cells": [
  {
   "cell_type": "code",
   "execution_count": null,
   "id": "e31b0cb9-aff9-4053-b129-cf990c0d3387",
   "metadata": {},
   "outputs": [],
   "source": [
    "## Horoscope"
   ]
  },
  {
   "cell_type": "code",
   "execution_count": 1,
   "id": "b83c9b2a-9f01-45cf-ae31-d7f1c8e9ac17",
   "metadata": {},
   "outputs": [
    {
     "name": "stdout",
     "output_type": "stream",
     "text": [
      "{'data': {'date': 'Jan 22, 2024', 'horoscope_data': \"Some rather intense and vivid dreams could inspire you to embark on some in-depth study of a subject that specifically interests you, Capricorn. This could involve the arts, philosophy, or metaphysics. Travel plans to one of the world's great spiritual centers, such as Jerusalem, Glastonbury or Vrindavana, might be on your mind as a result. Your level of intuition is very high today, so whatever you dream of doing, give it some serious thought. It might be just what you need!\"}, 'status': 200, 'success': True}\n",
      "Data stored successfully!\n"
     ]
    }
   ],
   "source": [
    "import requests\n",
    "import json\n",
    "\n",
    "# Make the GET request to the horoscope API\n",
    "response = requests.get(\"https://horoscope-app-api.vercel.app/api/v1/get-horoscope/daily?sign=capricorn&day=today\")\n",
    "data = response.json()  # Convert the response to JSON\n",
    "\n",
    "print(data)\n",
    "\n",
    "# Store the JSON data in a file\n",
    "with open(\"horoscope_data.json\", \"w\") as file:\n",
    "    json.dump(data, file)\n",
    "\n",
    "print(\"Data stored successfully!\")"
   ]
  },
  {
   "cell_type": "code",
   "execution_count": 5,
   "id": "273411f4-2baf-4337-82da-f6c816ada124",
   "metadata": {
    "editable": true,
    "slideshow": {
     "slide_type": ""
    },
    "tags": []
   },
   "outputs": [
    {
     "data": {
      "text/plain": [
       "('Jan 22, 2024',\n",
       " \"Some rather intense and vivid dreams could inspire you to embark on some in-depth study of a subject that specifically interests you, Capricorn. This could involve the arts, philosophy, or metaphysics. Travel plans to one of the world's great spiritual centers, such as Jerusalem, Glastonbury or Vrindavana, might be on your mind as a result. Your level of intuition is very high today, so whatever you dream of doing, give it some serious thought. It might be just what you need!\")"
      ]
     },
     "execution_count": 5,
     "metadata": {},
     "output_type": "execute_result"
    }
   ],
   "source": [
    "data['data']['date'], data['data']['horoscope_data']"
   ]
  }
 ],
 "metadata": {
  "kernelspec": {
   "display_name": "Python 3 (ipykernel)",
   "language": "python",
   "name": "python3"
  },
  "language_info": {
   "codemirror_mode": {
    "name": "ipython",
    "version": 3
   },
   "file_extension": ".py",
   "mimetype": "text/x-python",
   "name": "python",
   "nbconvert_exporter": "python",
   "pygments_lexer": "ipython3",
   "version": "3.11.7"
  }
 },
 "nbformat": 4,
 "nbformat_minor": 5
}
